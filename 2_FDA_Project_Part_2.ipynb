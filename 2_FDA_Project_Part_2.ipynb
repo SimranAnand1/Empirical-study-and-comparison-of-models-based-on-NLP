{
  "nbformat": 4,
  "nbformat_minor": 0,
  "metadata": {
    "colab": {
      "name": "2.FDA Project Part 2.ipynb",
      "provenance": [],
      "collapsed_sections": [],
      "toc_visible": true
    },
    "kernelspec": {
      "name": "python3",
      "display_name": "Python 3.8.3 64-bit ('base': conda)"
    },
    "interpreter": {
      "hash": "e7986c67c6fab0e5b7811717b7be1924f6680ee8c1d523700f68339686c541ab"
    }
  },
  "cells": [
    {
      "cell_type": "markdown",
      "metadata": {
        "id": "lcOmnt2BnhV_"
      },
      "source": [
        "#Simran Anand"
      ]
    },
    {
      "cell_type": "markdown",
      "metadata": {
        "id": "1jj5jY5BbVSt"
      },
      "source": [
        "##Importing necessary libraries to build model"
      ]
    },
    {
      "cell_type": "code",
      "metadata": {
        "id": "ApE0fn0kUQmx"
      },
      "source": [
        "import pandas as pd\n",
        "import numpy as np\n",
        "from numpy import percentile\n",
        "import matplotlib.pyplot as plt\n",
        "import seaborn as sns\n",
        "import matplotlib\n",
        "import tweepy\n",
        "from textblob import TextBlob\n",
        "import re # for regular expressions\n",
        "import pandas as pd \n",
        "pd.set_option(\"display.max_colwidth\", 200) \n",
        "import string\n",
        "import requests\n",
        "import nltk # for text manipulation\n",
        "from nltk.stem.porter import *\n",
        "from nltk.tokenize import TweetTokenizer\n",
        "from nltk.corpus import stopwords\n",
        "from nltk import pos_tag, ne_chunk\n",
        "from nltk.sentiment.vader import SentimentIntensityAnalyzer as sid\n",
        "from tqdm import tqdm, notebook\n",
        "from sklearn.feature_extraction.text import TfidfVectorizer, CountVectorizer\n",
        "from tqdm import tqdm\n",
        "from sklearn.linear_model import LogisticRegression\n",
        "from scipy import stats \n",
        "from sklearn import metrics \n",
        "from sklearn.metrics import mean_squared_error,mean_absolute_error, make_scorer,classification_report,confusion_matrix,accuracy_score,roc_auc_score,roc_curve\n",
        "from sklearn.model_selection import train_test_split,cross_val_score,KFold\n",
        "from sklearn.model_selection import train_test_split\n",
        "from sklearn.metrics import f1_score"
      ],
      "execution_count": 27,
      "outputs": []
    },
    {
      "cell_type": "markdown",
      "metadata": {
        "id": "fPyBVDyPcrfE"
      },
      "source": [
        "##Extracting dataset and Reviewing Our Dataset"
      ]
    },
    {
      "cell_type": "code",
      "metadata": {
        "id": "V1IVKdRWZ-hA",
        "colab": {
          "base_uri": "https://localhost:8080/",
          "height": 828
        },
        "outputId": "473faf0b-9da4-4ae9-ae8e-ab3e5a444529"
      },
      "source": [
        "df=pd.read_csv(\"https://raw.githubusercontent.com/gabrielpreda/covid-19-tweets/master/covid19_tweets.csv\")\n",
        "df.head()"
      ],
      "execution_count": 29,
      "outputs": [
        {
          "output_type": "execute_result",
          "data": {
            "text/plain": [
              "         user_name         user_location  \\\n",
              "0           ᏉᎥ☻լꂅϮ            astroworld   \n",
              "1    Tom Basile 🇺🇸          New York, NY   \n",
              "2  Time4fisticuffs      Pewee Valley, KY   \n",
              "3      ethel mertz  Stuck in the Middle    \n",
              "4         DIPR-J&K     Jammu and Kashmir   \n",
              "\n",
              "                                                                                                                                            user_description  \\\n",
              "0                                                                            wednesday addams as a disney princess keepin it [̲̅$̲̅(̲̅ιοο̲̅)̲̅$̲̅] 👸🏻💚♊️🧀🌵🌃🌙   \n",
              "1  Husband, Father, Columnist & Commentator. Author of Tough Sell: Fighting the Media War in Iraq. Bush Admin Alum. Newsmax Contributor. Fmr Exec Dir NYSGOP   \n",
              "2                              #Christian #Catholic #Conservative #Reagan #Republican #Capitalist; Sports lover - #BBN #Cincinnati #Reds #Bengals #Trump2020   \n",
              "3                                                                                                      #Browns #Indians #ClevelandProud #[]_[] #Cavs #Resist   \n",
              "4                                                       🖊️Official Twitter handle of Department of Information and Public Relations, Govt of Jammu & Kashmir   \n",
              "\n",
              "          user_created  user_followers  user_friends  user_favourites  \\\n",
              "0  2017-05-26 05:46:42             624           950            18775   \n",
              "1  2009-04-16 20:06:23            2253          1677               24   \n",
              "2  2009-02-28 18:57:41            9275          9525             7254   \n",
              "3  2019-03-07 01:45:06             197           987             1488   \n",
              "4  2017-02-12 06:45:15          101009           168              101   \n",
              "\n",
              "   user_verified                 date  \\\n",
              "0          False  2020-07-25 12:27:21   \n",
              "1           True  2020-07-25 12:27:17   \n",
              "2          False  2020-07-25 12:27:14   \n",
              "3          False  2020-07-25 12:27:10   \n",
              "4          False  2020-07-25 12:27:08   \n",
              "\n",
              "                                                                                                                                           text  \\\n",
              "0  If I smelled the scent of hand sanitizers today on someone in the past, I would think they were so intoxicated that… https://t.co/QZvYbrOgb0   \n",
              "1  Hey @Yankees @YankeesPR and @MLB - wouldn't it have made more sense to have the players pay their respects to the A… https://t.co/1QvW0zgyPu   \n",
              "2  @diane3443 @wdunlap @realDonaldTrump Trump never once claimed #COVID19 was a hoax. We all claim that this effort to… https://t.co/Jkk8vHWHb3   \n",
              "3   @brookbanktv The one gift #COVID19 has give me is an appreciation for the simple things that were always around me… https://t.co/Z0pOAlFXcW   \n",
              "4   25 July : Media Bulletin on Novel #CoronaVirusUpdates #COVID19 \\n@kansalrohit69 @DrSyedSehrish @airnewsalerts @ANI… https://t.co/MN0EEcsJHh   \n",
              "\n",
              "                            hashtags               source  is_retweet  \n",
              "0                                NaN   Twitter for iPhone       False  \n",
              "1                                NaN  Twitter for Android       False  \n",
              "2                        ['COVID19']  Twitter for Android       False  \n",
              "3                        ['COVID19']   Twitter for iPhone       False  \n",
              "4  ['CoronaVirusUpdates', 'COVID19']  Twitter for Android       False  "
            ],
            "text/html": "<div>\n<style scoped>\n    .dataframe tbody tr th:only-of-type {\n        vertical-align: middle;\n    }\n\n    .dataframe tbody tr th {\n        vertical-align: top;\n    }\n\n    .dataframe thead th {\n        text-align: right;\n    }\n</style>\n<table border=\"1\" class=\"dataframe\">\n  <thead>\n    <tr style=\"text-align: right;\">\n      <th></th>\n      <th>user_name</th>\n      <th>user_location</th>\n      <th>user_description</th>\n      <th>user_created</th>\n      <th>user_followers</th>\n      <th>user_friends</th>\n      <th>user_favourites</th>\n      <th>user_verified</th>\n      <th>date</th>\n      <th>text</th>\n      <th>hashtags</th>\n      <th>source</th>\n      <th>is_retweet</th>\n    </tr>\n  </thead>\n  <tbody>\n    <tr>\n      <th>0</th>\n      <td>ᏉᎥ☻լꂅϮ</td>\n      <td>astroworld</td>\n      <td>wednesday addams as a disney princess keepin it [̲̅$̲̅(̲̅ιοο̲̅)̲̅$̲̅] 👸🏻💚♊️🧀🌵🌃🌙</td>\n      <td>2017-05-26 05:46:42</td>\n      <td>624</td>\n      <td>950</td>\n      <td>18775</td>\n      <td>False</td>\n      <td>2020-07-25 12:27:21</td>\n      <td>If I smelled the scent of hand sanitizers today on someone in the past, I would think they were so intoxicated that… https://t.co/QZvYbrOgb0</td>\n      <td>NaN</td>\n      <td>Twitter for iPhone</td>\n      <td>False</td>\n    </tr>\n    <tr>\n      <th>1</th>\n      <td>Tom Basile 🇺🇸</td>\n      <td>New York, NY</td>\n      <td>Husband, Father, Columnist &amp; Commentator. Author of Tough Sell: Fighting the Media War in Iraq. Bush Admin Alum. Newsmax Contributor. Fmr Exec Dir NYSGOP</td>\n      <td>2009-04-16 20:06:23</td>\n      <td>2253</td>\n      <td>1677</td>\n      <td>24</td>\n      <td>True</td>\n      <td>2020-07-25 12:27:17</td>\n      <td>Hey @Yankees @YankeesPR and @MLB - wouldn't it have made more sense to have the players pay their respects to the A… https://t.co/1QvW0zgyPu</td>\n      <td>NaN</td>\n      <td>Twitter for Android</td>\n      <td>False</td>\n    </tr>\n    <tr>\n      <th>2</th>\n      <td>Time4fisticuffs</td>\n      <td>Pewee Valley, KY</td>\n      <td>#Christian #Catholic #Conservative #Reagan #Republican #Capitalist; Sports lover - #BBN #Cincinnati #Reds #Bengals #Trump2020</td>\n      <td>2009-02-28 18:57:41</td>\n      <td>9275</td>\n      <td>9525</td>\n      <td>7254</td>\n      <td>False</td>\n      <td>2020-07-25 12:27:14</td>\n      <td>@diane3443 @wdunlap @realDonaldTrump Trump never once claimed #COVID19 was a hoax. We all claim that this effort to… https://t.co/Jkk8vHWHb3</td>\n      <td>['COVID19']</td>\n      <td>Twitter for Android</td>\n      <td>False</td>\n    </tr>\n    <tr>\n      <th>3</th>\n      <td>ethel mertz</td>\n      <td>Stuck in the Middle</td>\n      <td>#Browns #Indians #ClevelandProud #[]_[] #Cavs #Resist</td>\n      <td>2019-03-07 01:45:06</td>\n      <td>197</td>\n      <td>987</td>\n      <td>1488</td>\n      <td>False</td>\n      <td>2020-07-25 12:27:10</td>\n      <td>@brookbanktv The one gift #COVID19 has give me is an appreciation for the simple things that were always around me… https://t.co/Z0pOAlFXcW</td>\n      <td>['COVID19']</td>\n      <td>Twitter for iPhone</td>\n      <td>False</td>\n    </tr>\n    <tr>\n      <th>4</th>\n      <td>DIPR-J&amp;K</td>\n      <td>Jammu and Kashmir</td>\n      <td>🖊️Official Twitter handle of Department of Information and Public Relations, Govt of Jammu &amp; Kashmir</td>\n      <td>2017-02-12 06:45:15</td>\n      <td>101009</td>\n      <td>168</td>\n      <td>101</td>\n      <td>False</td>\n      <td>2020-07-25 12:27:08</td>\n      <td>25 July : Media Bulletin on Novel #CoronaVirusUpdates #COVID19 \\n@kansalrohit69 @DrSyedSehrish @airnewsalerts @ANI… https://t.co/MN0EEcsJHh</td>\n      <td>['CoronaVirusUpdates', 'COVID19']</td>\n      <td>Twitter for Android</td>\n      <td>False</td>\n    </tr>\n  </tbody>\n</table>\n</div>"
          },
          "metadata": {},
          "execution_count": 29
        }
      ]
    },
    {
      "cell_type": "markdown",
      "metadata": {
        "id": "fUQMBD6kK45l"
      },
      "source": [
        "#Data Preprocessing"
      ]
    },
    {
      "cell_type": "markdown",
      "metadata": {
        "id": "bFIUqUMEWVJg"
      },
      "source": [
        "**A) Removing @user**"
      ]
    },
    {
      "cell_type": "code",
      "metadata": {
        "colab": {
          "base_uri": "https://localhost:8080/",
          "height": 366
        },
        "id": "JXMSvb9SV2yr",
        "outputId": "6c5f71b6-7fce-4e65-88ce-e90784882c7e"
      },
      "source": [
        "# write function for removing @user\n",
        "def remove_pattern(input_txt, pattern):\n",
        "    r = re.findall(pattern, input_txt)\n",
        "    for i in r:\n",
        "        input_txt = re.sub(i,'',input_txt)\n",
        "    return input_txt\n",
        "# create new column with removed @user\n",
        "df['clean_text'] = np.vectorize(remove_pattern)(df['text'], '@[\\w]*')\n",
        "df.head(2)"
      ],
      "execution_count": 37,
      "outputs": [
        {
          "output_type": "execute_result",
          "data": {
            "text/plain": [
              "       user_name user_location  \\\n",
              "0         ᏉᎥ☻լꂅϮ    astroworld   \n",
              "1  Tom Basile 🇺🇸  New York, NY   \n",
              "\n",
              "                                                                                                                                            user_description  \\\n",
              "0                                                                            wednesday addams as a disney princess keepin it [̲̅$̲̅(̲̅ιοο̲̅)̲̅$̲̅] 👸🏻💚♊️🧀🌵🌃🌙   \n",
              "1  Husband, Father, Columnist & Commentator. Author of Tough Sell: Fighting the Media War in Iraq. Bush Admin Alum. Newsmax Contributor. Fmr Exec Dir NYSGOP   \n",
              "\n",
              "          user_created  user_followers  user_friends  user_favourites  \\\n",
              "0  2017-05-26 05:46:42             624           950            18775   \n",
              "1  2009-04-16 20:06:23            2253          1677               24   \n",
              "\n",
              "   user_verified                 date  \\\n",
              "0          False  2020-07-25 12:27:21   \n",
              "1           True  2020-07-25 12:27:17   \n",
              "\n",
              "                                                                                                                                           text  \\\n",
              "0  If I smelled the scent of hand sanitizers today on someone in the past, I would think they were so intoxicated that… https://t.co/QZvYbrOgb0   \n",
              "1  Hey @Yankees @YankeesPR and @MLB - wouldn't it have made more sense to have the players pay their respects to the A… https://t.co/1QvW0zgyPu   \n",
              "\n",
              "  hashtags               source  is_retweet  \\\n",
              "0      NaN   Twitter for iPhone       False   \n",
              "1      NaN  Twitter for Android       False   \n",
              "\n",
              "                                                                                                                                     clean_text  \n",
              "0  If I smelled the scent of hand sanitizers today on someone in the past, I would think they were so intoxicated that… https://t.co/QZvYbrOgb0  \n",
              "1                      Hey  PR and  - wouldn't it have made more sense to have the players pay their respects to the A… https://t.co/1QvW0zgyPu  "
            ],
            "text/html": "<div>\n<style scoped>\n    .dataframe tbody tr th:only-of-type {\n        vertical-align: middle;\n    }\n\n    .dataframe tbody tr th {\n        vertical-align: top;\n    }\n\n    .dataframe thead th {\n        text-align: right;\n    }\n</style>\n<table border=\"1\" class=\"dataframe\">\n  <thead>\n    <tr style=\"text-align: right;\">\n      <th></th>\n      <th>user_name</th>\n      <th>user_location</th>\n      <th>user_description</th>\n      <th>user_created</th>\n      <th>user_followers</th>\n      <th>user_friends</th>\n      <th>user_favourites</th>\n      <th>user_verified</th>\n      <th>date</th>\n      <th>text</th>\n      <th>hashtags</th>\n      <th>source</th>\n      <th>is_retweet</th>\n      <th>clean_text</th>\n    </tr>\n  </thead>\n  <tbody>\n    <tr>\n      <th>0</th>\n      <td>ᏉᎥ☻լꂅϮ</td>\n      <td>astroworld</td>\n      <td>wednesday addams as a disney princess keepin it [̲̅$̲̅(̲̅ιοο̲̅)̲̅$̲̅] 👸🏻💚♊️🧀🌵🌃🌙</td>\n      <td>2017-05-26 05:46:42</td>\n      <td>624</td>\n      <td>950</td>\n      <td>18775</td>\n      <td>False</td>\n      <td>2020-07-25 12:27:21</td>\n      <td>If I smelled the scent of hand sanitizers today on someone in the past, I would think they were so intoxicated that… https://t.co/QZvYbrOgb0</td>\n      <td>NaN</td>\n      <td>Twitter for iPhone</td>\n      <td>False</td>\n      <td>If I smelled the scent of hand sanitizers today on someone in the past, I would think they were so intoxicated that… https://t.co/QZvYbrOgb0</td>\n    </tr>\n    <tr>\n      <th>1</th>\n      <td>Tom Basile 🇺🇸</td>\n      <td>New York, NY</td>\n      <td>Husband, Father, Columnist &amp; Commentator. Author of Tough Sell: Fighting the Media War in Iraq. Bush Admin Alum. Newsmax Contributor. Fmr Exec Dir NYSGOP</td>\n      <td>2009-04-16 20:06:23</td>\n      <td>2253</td>\n      <td>1677</td>\n      <td>24</td>\n      <td>True</td>\n      <td>2020-07-25 12:27:17</td>\n      <td>Hey @Yankees @YankeesPR and @MLB - wouldn't it have made more sense to have the players pay their respects to the A… https://t.co/1QvW0zgyPu</td>\n      <td>NaN</td>\n      <td>Twitter for Android</td>\n      <td>False</td>\n      <td>Hey  PR and  - wouldn't it have made more sense to have the players pay their respects to the A… https://t.co/1QvW0zgyPu</td>\n    </tr>\n  </tbody>\n</table>\n</div>"
          },
          "metadata": {},
          "execution_count": 37
        }
      ]
    },
    {
      "cell_type": "markdown",
      "metadata": {
        "id": "qpSendbZXdDg"
      },
      "source": [
        "##REMOVED HTTP AND URLS FROM TWEET"
      ]
    },
    {
      "cell_type": "code",
      "metadata": {
        "colab": {
          "base_uri": "https://localhost:8080/",
          "height": 649
        },
        "id": "CMNaPDkrXhCF",
        "outputId": "2440e52b-aa87-4977-cdb3-6c227c5d6511"
      },
      "source": [
        "import re\n",
        "df['clean_text'] = df['clean_text'].apply(lambda x: re.split('https:\\/\\/.*', str(x))[0])\n",
        "df.head(3)"
      ],
      "execution_count": 43,
      "outputs": [
        {
          "output_type": "execute_result",
          "data": {
            "text/plain": [
              "         user_name     user_location  \\\n",
              "0           ᏉᎥ☻լꂅϮ        astroworld   \n",
              "1    Tom Basile 🇺🇸      New York, NY   \n",
              "2  Time4fisticuffs  Pewee Valley, KY   \n",
              "\n",
              "                                                                                                                                            user_description  \\\n",
              "0                                                                            wednesday addams as a disney princess keepin it [̲̅$̲̅(̲̅ιοο̲̅)̲̅$̲̅] 👸🏻💚♊️🧀🌵🌃🌙   \n",
              "1  Husband, Father, Columnist & Commentator. Author of Tough Sell: Fighting the Media War in Iraq. Bush Admin Alum. Newsmax Contributor. Fmr Exec Dir NYSGOP   \n",
              "2                              #Christian #Catholic #Conservative #Reagan #Republican #Capitalist; Sports lover - #BBN #Cincinnati #Reds #Bengals #Trump2020   \n",
              "\n",
              "          user_created  user_followers  user_friends  user_favourites  \\\n",
              "0  2017-05-26 05:46:42             624           950            18775   \n",
              "1  2009-04-16 20:06:23            2253          1677               24   \n",
              "2  2009-02-28 18:57:41            9275          9525             7254   \n",
              "\n",
              "   user_verified                 date  \\\n",
              "0          False  2020-07-25 12:27:21   \n",
              "1           True  2020-07-25 12:27:17   \n",
              "2          False  2020-07-25 12:27:14   \n",
              "\n",
              "                                                                                                                                           text  \\\n",
              "0  If I smelled the scent of hand sanitizers today on someone in the past, I would think they were so intoxicated that… https://t.co/QZvYbrOgb0   \n",
              "1  Hey @Yankees @YankeesPR and @MLB - wouldn't it have made more sense to have the players pay their respects to the A… https://t.co/1QvW0zgyPu   \n",
              "2  @diane3443 @wdunlap @realDonaldTrump Trump never once claimed #COVID19 was a hoax. We all claim that this effort to… https://t.co/Jkk8vHWHb3   \n",
              "\n",
              "      hashtags               source  is_retweet  \\\n",
              "0          NaN   Twitter for iPhone       False   \n",
              "1          NaN  Twitter for Android       False   \n",
              "2  ['COVID19']  Twitter for Android       False   \n",
              "\n",
              "                                                                                         clean_text  \n",
              "0  smell the scent hand sanit today someon the past would think they were intox that http qzvybrogb  \n",
              "1           hey and wouldn have made more sens have the player pay their respect the http qvw zgypu  \n",
              "2                     trump never onc claim #covid wa hoax all claim that thi effort http jkk vhwhb  "
            ],
            "text/html": "<div>\n<style scoped>\n    .dataframe tbody tr th:only-of-type {\n        vertical-align: middle;\n    }\n\n    .dataframe tbody tr th {\n        vertical-align: top;\n    }\n\n    .dataframe thead th {\n        text-align: right;\n    }\n</style>\n<table border=\"1\" class=\"dataframe\">\n  <thead>\n    <tr style=\"text-align: right;\">\n      <th></th>\n      <th>user_name</th>\n      <th>user_location</th>\n      <th>user_description</th>\n      <th>user_created</th>\n      <th>user_followers</th>\n      <th>user_friends</th>\n      <th>user_favourites</th>\n      <th>user_verified</th>\n      <th>date</th>\n      <th>text</th>\n      <th>hashtags</th>\n      <th>source</th>\n      <th>is_retweet</th>\n      <th>clean_text</th>\n    </tr>\n  </thead>\n  <tbody>\n    <tr>\n      <th>0</th>\n      <td>ᏉᎥ☻լꂅϮ</td>\n      <td>astroworld</td>\n      <td>wednesday addams as a disney princess keepin it [̲̅$̲̅(̲̅ιοο̲̅)̲̅$̲̅] 👸🏻💚♊️🧀🌵🌃🌙</td>\n      <td>2017-05-26 05:46:42</td>\n      <td>624</td>\n      <td>950</td>\n      <td>18775</td>\n      <td>False</td>\n      <td>2020-07-25 12:27:21</td>\n      <td>If I smelled the scent of hand sanitizers today on someone in the past, I would think they were so intoxicated that… https://t.co/QZvYbrOgb0</td>\n      <td>NaN</td>\n      <td>Twitter for iPhone</td>\n      <td>False</td>\n      <td>smell the scent hand sanit today someon the past would think they were intox that http qzvybrogb</td>\n    </tr>\n    <tr>\n      <th>1</th>\n      <td>Tom Basile 🇺🇸</td>\n      <td>New York, NY</td>\n      <td>Husband, Father, Columnist &amp; Commentator. Author of Tough Sell: Fighting the Media War in Iraq. Bush Admin Alum. Newsmax Contributor. Fmr Exec Dir NYSGOP</td>\n      <td>2009-04-16 20:06:23</td>\n      <td>2253</td>\n      <td>1677</td>\n      <td>24</td>\n      <td>True</td>\n      <td>2020-07-25 12:27:17</td>\n      <td>Hey @Yankees @YankeesPR and @MLB - wouldn't it have made more sense to have the players pay their respects to the A… https://t.co/1QvW0zgyPu</td>\n      <td>NaN</td>\n      <td>Twitter for Android</td>\n      <td>False</td>\n      <td>hey and wouldn have made more sens have the player pay their respect the http qvw zgypu</td>\n    </tr>\n    <tr>\n      <th>2</th>\n      <td>Time4fisticuffs</td>\n      <td>Pewee Valley, KY</td>\n      <td>#Christian #Catholic #Conservative #Reagan #Republican #Capitalist; Sports lover - #BBN #Cincinnati #Reds #Bengals #Trump2020</td>\n      <td>2009-02-28 18:57:41</td>\n      <td>9275</td>\n      <td>9525</td>\n      <td>7254</td>\n      <td>False</td>\n      <td>2020-07-25 12:27:14</td>\n      <td>@diane3443 @wdunlap @realDonaldTrump Trump never once claimed #COVID19 was a hoax. We all claim that this effort to… https://t.co/Jkk8vHWHb3</td>\n      <td>['COVID19']</td>\n      <td>Twitter for Android</td>\n      <td>False</td>\n      <td>trump never onc claim #covid wa hoax all claim that thi effort http jkk vhwhb</td>\n    </tr>\n  </tbody>\n</table>\n</div>"
          },
          "metadata": {},
          "execution_count": 43
        }
      ]
    },
    {
      "cell_type": "markdown",
      "metadata": {
        "id": "LrrqOGKnYOOj"
      },
      "source": [
        "##**B) Removing Punctuations, Numbers, and Special Characters**"
      ]
    },
    {
      "cell_type": "code",
      "metadata": {
        "id": "IFsQrGNNYlNS"
      },
      "source": [
        "# remove special characters, numbers, punctuations\n",
        "df['clean_text'] = df['clean_text'].str.replace('[^a-zA-Z#]+',' ')"
      ],
      "execution_count": 45,
      "outputs": []
    },
    {
      "cell_type": "code",
      "metadata": {
        "colab": {
          "base_uri": "https://localhost:8080/",
          "height": 828
        },
        "id": "_sDXI-z9pkfH",
        "outputId": "1832f42f-babd-497e-ac20-d34696f21f5d"
      },
      "source": [
        "df.head(5)"
      ],
      "execution_count": 33,
      "outputs": [
        {
          "output_type": "execute_result",
          "data": {
            "text/plain": [
              "         user_name         user_location  \\\n",
              "0           ᏉᎥ☻լꂅϮ            astroworld   \n",
              "1    Tom Basile 🇺🇸          New York, NY   \n",
              "2  Time4fisticuffs      Pewee Valley, KY   \n",
              "3      ethel mertz  Stuck in the Middle    \n",
              "4         DIPR-J&K     Jammu and Kashmir   \n",
              "\n",
              "                                                                                                                                            user_description  \\\n",
              "0                                                                            wednesday addams as a disney princess keepin it [̲̅$̲̅(̲̅ιοο̲̅)̲̅$̲̅] 👸🏻💚♊️🧀🌵🌃🌙   \n",
              "1  Husband, Father, Columnist & Commentator. Author of Tough Sell: Fighting the Media War in Iraq. Bush Admin Alum. Newsmax Contributor. Fmr Exec Dir NYSGOP   \n",
              "2                              #Christian #Catholic #Conservative #Reagan #Republican #Capitalist; Sports lover - #BBN #Cincinnati #Reds #Bengals #Trump2020   \n",
              "3                                                                                                      #Browns #Indians #ClevelandProud #[]_[] #Cavs #Resist   \n",
              "4                                                       🖊️Official Twitter handle of Department of Information and Public Relations, Govt of Jammu & Kashmir   \n",
              "\n",
              "          user_created  user_followers  user_friends  user_favourites  \\\n",
              "0  2017-05-26 05:46:42             624           950            18775   \n",
              "1  2009-04-16 20:06:23            2253          1677               24   \n",
              "2  2009-02-28 18:57:41            9275          9525             7254   \n",
              "3  2019-03-07 01:45:06             197           987             1488   \n",
              "4  2017-02-12 06:45:15          101009           168              101   \n",
              "\n",
              "   user_verified                 date  \\\n",
              "0          False  2020-07-25 12:27:21   \n",
              "1           True  2020-07-25 12:27:17   \n",
              "2          False  2020-07-25 12:27:14   \n",
              "3          False  2020-07-25 12:27:10   \n",
              "4          False  2020-07-25 12:27:08   \n",
              "\n",
              "                                                                                                                                           text  \\\n",
              "0  If I smelled the scent of hand sanitizers today on someone in the past, I would think they were so intoxicated that… https://t.co/QZvYbrOgb0   \n",
              "1  Hey @Yankees @YankeesPR and @MLB - wouldn't it have made more sense to have the players pay their respects to the A… https://t.co/1QvW0zgyPu   \n",
              "2  @diane3443 @wdunlap @realDonaldTrump Trump never once claimed #COVID19 was a hoax. We all claim that this effort to… https://t.co/Jkk8vHWHb3   \n",
              "3   @brookbanktv The one gift #COVID19 has give me is an appreciation for the simple things that were always around me… https://t.co/Z0pOAlFXcW   \n",
              "4   25 July : Media Bulletin on Novel #CoronaVirusUpdates #COVID19 \\n@kansalrohit69 @DrSyedSehrish @airnewsalerts @ANI… https://t.co/MN0EEcsJHh   \n",
              "\n",
              "                            hashtags               source  is_retweet  \\\n",
              "0                                NaN   Twitter for iPhone       False   \n",
              "1                                NaN  Twitter for Android       False   \n",
              "2                        ['COVID19']  Twitter for Android       False   \n",
              "3                        ['COVID19']   Twitter for iPhone       False   \n",
              "4  ['CoronaVirusUpdates', 'COVID19']  Twitter for Android       False   \n",
              "\n",
              "                                                                                                                                 clean_text  \n",
              "0  If I smelled the scent of hand sanitizers today on someone in the past I would think they were so intoxicated that https t co QZvYbrOgb   \n",
              "1                          Hey PR and wouldn t it have made more sense to have the players pay their respects to the A https t co QvW zgyPu  \n",
              "2                                         Trump never once claimed #COVID was a hoax We all claim that this effort to https t co Jkk vHWHb   \n",
              "3                 The one gift #COVID has give me is an appreciation for the simple things that were always around me https t co Z pOAlFXcW  \n",
              "4                                                             July Media Bulletin on Novel #CoronaVirusUpdates #COVID https t co MN EEcsJHh  "
            ],
            "text/html": "<div>\n<style scoped>\n    .dataframe tbody tr th:only-of-type {\n        vertical-align: middle;\n    }\n\n    .dataframe tbody tr th {\n        vertical-align: top;\n    }\n\n    .dataframe thead th {\n        text-align: right;\n    }\n</style>\n<table border=\"1\" class=\"dataframe\">\n  <thead>\n    <tr style=\"text-align: right;\">\n      <th></th>\n      <th>user_name</th>\n      <th>user_location</th>\n      <th>user_description</th>\n      <th>user_created</th>\n      <th>user_followers</th>\n      <th>user_friends</th>\n      <th>user_favourites</th>\n      <th>user_verified</th>\n      <th>date</th>\n      <th>text</th>\n      <th>hashtags</th>\n      <th>source</th>\n      <th>is_retweet</th>\n      <th>clean_text</th>\n    </tr>\n  </thead>\n  <tbody>\n    <tr>\n      <th>0</th>\n      <td>ᏉᎥ☻լꂅϮ</td>\n      <td>astroworld</td>\n      <td>wednesday addams as a disney princess keepin it [̲̅$̲̅(̲̅ιοο̲̅)̲̅$̲̅] 👸🏻💚♊️🧀🌵🌃🌙</td>\n      <td>2017-05-26 05:46:42</td>\n      <td>624</td>\n      <td>950</td>\n      <td>18775</td>\n      <td>False</td>\n      <td>2020-07-25 12:27:21</td>\n      <td>If I smelled the scent of hand sanitizers today on someone in the past, I would think they were so intoxicated that… https://t.co/QZvYbrOgb0</td>\n      <td>NaN</td>\n      <td>Twitter for iPhone</td>\n      <td>False</td>\n      <td>If I smelled the scent of hand sanitizers today on someone in the past I would think they were so intoxicated that https t co QZvYbrOgb</td>\n    </tr>\n    <tr>\n      <th>1</th>\n      <td>Tom Basile 🇺🇸</td>\n      <td>New York, NY</td>\n      <td>Husband, Father, Columnist &amp; Commentator. Author of Tough Sell: Fighting the Media War in Iraq. Bush Admin Alum. Newsmax Contributor. Fmr Exec Dir NYSGOP</td>\n      <td>2009-04-16 20:06:23</td>\n      <td>2253</td>\n      <td>1677</td>\n      <td>24</td>\n      <td>True</td>\n      <td>2020-07-25 12:27:17</td>\n      <td>Hey @Yankees @YankeesPR and @MLB - wouldn't it have made more sense to have the players pay their respects to the A… https://t.co/1QvW0zgyPu</td>\n      <td>NaN</td>\n      <td>Twitter for Android</td>\n      <td>False</td>\n      <td>Hey PR and wouldn t it have made more sense to have the players pay their respects to the A https t co QvW zgyPu</td>\n    </tr>\n    <tr>\n      <th>2</th>\n      <td>Time4fisticuffs</td>\n      <td>Pewee Valley, KY</td>\n      <td>#Christian #Catholic #Conservative #Reagan #Republican #Capitalist; Sports lover - #BBN #Cincinnati #Reds #Bengals #Trump2020</td>\n      <td>2009-02-28 18:57:41</td>\n      <td>9275</td>\n      <td>9525</td>\n      <td>7254</td>\n      <td>False</td>\n      <td>2020-07-25 12:27:14</td>\n      <td>@diane3443 @wdunlap @realDonaldTrump Trump never once claimed #COVID19 was a hoax. We all claim that this effort to… https://t.co/Jkk8vHWHb3</td>\n      <td>['COVID19']</td>\n      <td>Twitter for Android</td>\n      <td>False</td>\n      <td>Trump never once claimed #COVID was a hoax We all claim that this effort to https t co Jkk vHWHb</td>\n    </tr>\n    <tr>\n      <th>3</th>\n      <td>ethel mertz</td>\n      <td>Stuck in the Middle</td>\n      <td>#Browns #Indians #ClevelandProud #[]_[] #Cavs #Resist</td>\n      <td>2019-03-07 01:45:06</td>\n      <td>197</td>\n      <td>987</td>\n      <td>1488</td>\n      <td>False</td>\n      <td>2020-07-25 12:27:10</td>\n      <td>@brookbanktv The one gift #COVID19 has give me is an appreciation for the simple things that were always around me… https://t.co/Z0pOAlFXcW</td>\n      <td>['COVID19']</td>\n      <td>Twitter for iPhone</td>\n      <td>False</td>\n      <td>The one gift #COVID has give me is an appreciation for the simple things that were always around me https t co Z pOAlFXcW</td>\n    </tr>\n    <tr>\n      <th>4</th>\n      <td>DIPR-J&amp;K</td>\n      <td>Jammu and Kashmir</td>\n      <td>🖊️Official Twitter handle of Department of Information and Public Relations, Govt of Jammu &amp; Kashmir</td>\n      <td>2017-02-12 06:45:15</td>\n      <td>101009</td>\n      <td>168</td>\n      <td>101</td>\n      <td>False</td>\n      <td>2020-07-25 12:27:08</td>\n      <td>25 July : Media Bulletin on Novel #CoronaVirusUpdates #COVID19 \\n@kansalrohit69 @DrSyedSehrish @airnewsalerts @ANI… https://t.co/MN0EEcsJHh</td>\n      <td>['CoronaVirusUpdates', 'COVID19']</td>\n      <td>Twitter for Android</td>\n      <td>False</td>\n      <td>July Media Bulletin on Novel #CoronaVirusUpdates #COVID https t co MN EEcsJHh</td>\n    </tr>\n  </tbody>\n</table>\n</div>"
          },
          "metadata": {},
          "execution_count": 33
        }
      ]
    },
    {
      "cell_type": "markdown",
      "metadata": {
        "id": "v-7LkwodZBOo"
      },
      "source": [
        "##**C) Removing Short Words**"
      ]
    },
    {
      "cell_type": "code",
      "metadata": {
        "colab": {
          "base_uri": "https://localhost:8080/",
          "height": 433
        },
        "id": "KRtsm6B7ZCIQ",
        "outputId": "560e109e-cbe9-40cb-dc44-c2f48b6c9577"
      },
      "source": [
        "# remove short words\n",
        "df['clean_text'] = df['clean_text'].apply(lambda x: ' '.join([w for w in x.split() if len(w) > 2]))\n",
        "df.head(2)"
      ],
      "execution_count": 34,
      "outputs": [
        {
          "output_type": "execute_result",
          "data": {
            "text/plain": [
              "       user_name user_location  \\\n",
              "0         ᏉᎥ☻լꂅϮ    astroworld   \n",
              "1  Tom Basile 🇺🇸  New York, NY   \n",
              "\n",
              "                                                                                                                                            user_description  \\\n",
              "0                                                                            wednesday addams as a disney princess keepin it [̲̅$̲̅(̲̅ιοο̲̅)̲̅$̲̅] 👸🏻💚♊️🧀🌵🌃🌙   \n",
              "1  Husband, Father, Columnist & Commentator. Author of Tough Sell: Fighting the Media War in Iraq. Bush Admin Alum. Newsmax Contributor. Fmr Exec Dir NYSGOP   \n",
              "\n",
              "          user_created  user_followers  user_friends  user_favourites  \\\n",
              "0  2017-05-26 05:46:42             624           950            18775   \n",
              "1  2009-04-16 20:06:23            2253          1677               24   \n",
              "\n",
              "   user_verified                 date  \\\n",
              "0          False  2020-07-25 12:27:21   \n",
              "1           True  2020-07-25 12:27:17   \n",
              "\n",
              "                                                                                                                                           text  \\\n",
              "0  If I smelled the scent of hand sanitizers today on someone in the past, I would think they were so intoxicated that… https://t.co/QZvYbrOgb0   \n",
              "1  Hey @Yankees @YankeesPR and @MLB - wouldn't it have made more sense to have the players pay their respects to the A… https://t.co/1QvW0zgyPu   \n",
              "\n",
              "  hashtags               source  is_retweet  \\\n",
              "0      NaN   Twitter for iPhone       False   \n",
              "1      NaN  Twitter for Android       False   \n",
              "\n",
              "                                                                                                        clean_text  \n",
              "0  smelled the scent hand sanitizers today someone the past would think they were intoxicated that https QZvYbrOgb  \n",
              "1                      Hey and wouldn have made more sense have the players pay their respects the https QvW zgyPu  "
            ],
            "text/html": "<div>\n<style scoped>\n    .dataframe tbody tr th:only-of-type {\n        vertical-align: middle;\n    }\n\n    .dataframe tbody tr th {\n        vertical-align: top;\n    }\n\n    .dataframe thead th {\n        text-align: right;\n    }\n</style>\n<table border=\"1\" class=\"dataframe\">\n  <thead>\n    <tr style=\"text-align: right;\">\n      <th></th>\n      <th>user_name</th>\n      <th>user_location</th>\n      <th>user_description</th>\n      <th>user_created</th>\n      <th>user_followers</th>\n      <th>user_friends</th>\n      <th>user_favourites</th>\n      <th>user_verified</th>\n      <th>date</th>\n      <th>text</th>\n      <th>hashtags</th>\n      <th>source</th>\n      <th>is_retweet</th>\n      <th>clean_text</th>\n    </tr>\n  </thead>\n  <tbody>\n    <tr>\n      <th>0</th>\n      <td>ᏉᎥ☻լꂅϮ</td>\n      <td>astroworld</td>\n      <td>wednesday addams as a disney princess keepin it [̲̅$̲̅(̲̅ιοο̲̅)̲̅$̲̅] 👸🏻💚♊️🧀🌵🌃🌙</td>\n      <td>2017-05-26 05:46:42</td>\n      <td>624</td>\n      <td>950</td>\n      <td>18775</td>\n      <td>False</td>\n      <td>2020-07-25 12:27:21</td>\n      <td>If I smelled the scent of hand sanitizers today on someone in the past, I would think they were so intoxicated that… https://t.co/QZvYbrOgb0</td>\n      <td>NaN</td>\n      <td>Twitter for iPhone</td>\n      <td>False</td>\n      <td>smelled the scent hand sanitizers today someone the past would think they were intoxicated that https QZvYbrOgb</td>\n    </tr>\n    <tr>\n      <th>1</th>\n      <td>Tom Basile 🇺🇸</td>\n      <td>New York, NY</td>\n      <td>Husband, Father, Columnist &amp; Commentator. Author of Tough Sell: Fighting the Media War in Iraq. Bush Admin Alum. Newsmax Contributor. Fmr Exec Dir NYSGOP</td>\n      <td>2009-04-16 20:06:23</td>\n      <td>2253</td>\n      <td>1677</td>\n      <td>24</td>\n      <td>True</td>\n      <td>2020-07-25 12:27:17</td>\n      <td>Hey @Yankees @YankeesPR and @MLB - wouldn't it have made more sense to have the players pay their respects to the A… https://t.co/1QvW0zgyPu</td>\n      <td>NaN</td>\n      <td>Twitter for Android</td>\n      <td>False</td>\n      <td>Hey and wouldn have made more sense have the players pay their respects the https QvW zgyPu</td>\n    </tr>\n  </tbody>\n</table>\n</div>"
          },
          "metadata": {},
          "execution_count": 34
        }
      ]
    },
    {
      "cell_type": "markdown",
      "metadata": {
        "id": "HZcLGiUQaIdi"
      },
      "source": [
        "##**D) Tokenization**"
      ]
    },
    {
      "cell_type": "code",
      "metadata": {
        "colab": {
          "base_uri": "https://localhost:8080/",
          "height": 433
        },
        "id": "Rj3xrE2caQ9Z",
        "outputId": "e4f752e9-e768-4626-b8ff-4e69a9b3f2eb"
      },
      "source": [
        "# create new variable tokenized tweet \n",
        "tokenized_tweet = df['clean_text'].apply(lambda x: x.split())\n",
        "df.head(2)"
      ],
      "execution_count": 35,
      "outputs": [
        {
          "output_type": "execute_result",
          "data": {
            "text/plain": [
              "       user_name user_location  \\\n",
              "0         ᏉᎥ☻լꂅϮ    astroworld   \n",
              "1  Tom Basile 🇺🇸  New York, NY   \n",
              "\n",
              "                                                                                                                                            user_description  \\\n",
              "0                                                                            wednesday addams as a disney princess keepin it [̲̅$̲̅(̲̅ιοο̲̅)̲̅$̲̅] 👸🏻💚♊️🧀🌵🌃🌙   \n",
              "1  Husband, Father, Columnist & Commentator. Author of Tough Sell: Fighting the Media War in Iraq. Bush Admin Alum. Newsmax Contributor. Fmr Exec Dir NYSGOP   \n",
              "\n",
              "          user_created  user_followers  user_friends  user_favourites  \\\n",
              "0  2017-05-26 05:46:42             624           950            18775   \n",
              "1  2009-04-16 20:06:23            2253          1677               24   \n",
              "\n",
              "   user_verified                 date  \\\n",
              "0          False  2020-07-25 12:27:21   \n",
              "1           True  2020-07-25 12:27:17   \n",
              "\n",
              "                                                                                                                                           text  \\\n",
              "0  If I smelled the scent of hand sanitizers today on someone in the past, I would think they were so intoxicated that… https://t.co/QZvYbrOgb0   \n",
              "1  Hey @Yankees @YankeesPR and @MLB - wouldn't it have made more sense to have the players pay their respects to the A… https://t.co/1QvW0zgyPu   \n",
              "\n",
              "  hashtags               source  is_retweet  \\\n",
              "0      NaN   Twitter for iPhone       False   \n",
              "1      NaN  Twitter for Android       False   \n",
              "\n",
              "                                                                                                        clean_text  \n",
              "0  smelled the scent hand sanitizers today someone the past would think they were intoxicated that https QZvYbrOgb  \n",
              "1                      Hey and wouldn have made more sense have the players pay their respects the https QvW zgyPu  "
            ],
            "text/html": "<div>\n<style scoped>\n    .dataframe tbody tr th:only-of-type {\n        vertical-align: middle;\n    }\n\n    .dataframe tbody tr th {\n        vertical-align: top;\n    }\n\n    .dataframe thead th {\n        text-align: right;\n    }\n</style>\n<table border=\"1\" class=\"dataframe\">\n  <thead>\n    <tr style=\"text-align: right;\">\n      <th></th>\n      <th>user_name</th>\n      <th>user_location</th>\n      <th>user_description</th>\n      <th>user_created</th>\n      <th>user_followers</th>\n      <th>user_friends</th>\n      <th>user_favourites</th>\n      <th>user_verified</th>\n      <th>date</th>\n      <th>text</th>\n      <th>hashtags</th>\n      <th>source</th>\n      <th>is_retweet</th>\n      <th>clean_text</th>\n    </tr>\n  </thead>\n  <tbody>\n    <tr>\n      <th>0</th>\n      <td>ᏉᎥ☻լꂅϮ</td>\n      <td>astroworld</td>\n      <td>wednesday addams as a disney princess keepin it [̲̅$̲̅(̲̅ιοο̲̅)̲̅$̲̅] 👸🏻💚♊️🧀🌵🌃🌙</td>\n      <td>2017-05-26 05:46:42</td>\n      <td>624</td>\n      <td>950</td>\n      <td>18775</td>\n      <td>False</td>\n      <td>2020-07-25 12:27:21</td>\n      <td>If I smelled the scent of hand sanitizers today on someone in the past, I would think they were so intoxicated that… https://t.co/QZvYbrOgb0</td>\n      <td>NaN</td>\n      <td>Twitter for iPhone</td>\n      <td>False</td>\n      <td>smelled the scent hand sanitizers today someone the past would think they were intoxicated that https QZvYbrOgb</td>\n    </tr>\n    <tr>\n      <th>1</th>\n      <td>Tom Basile 🇺🇸</td>\n      <td>New York, NY</td>\n      <td>Husband, Father, Columnist &amp; Commentator. Author of Tough Sell: Fighting the Media War in Iraq. Bush Admin Alum. Newsmax Contributor. Fmr Exec Dir NYSGOP</td>\n      <td>2009-04-16 20:06:23</td>\n      <td>2253</td>\n      <td>1677</td>\n      <td>24</td>\n      <td>True</td>\n      <td>2020-07-25 12:27:17</td>\n      <td>Hey @Yankees @YankeesPR and @MLB - wouldn't it have made more sense to have the players pay their respects to the A… https://t.co/1QvW0zgyPu</td>\n      <td>NaN</td>\n      <td>Twitter for Android</td>\n      <td>False</td>\n      <td>Hey and wouldn have made more sense have the players pay their respects the https QvW zgyPu</td>\n    </tr>\n  </tbody>\n</table>\n</div>"
          },
          "metadata": {},
          "execution_count": 35
        }
      ]
    },
    {
      "cell_type": "markdown",
      "metadata": {
        "id": "N9XV6RlyabHW"
      },
      "source": [
        "##**E) Stemming**"
      ]
    },
    {
      "cell_type": "code",
      "metadata": {
        "id": "4eo1seg9aduN",
        "colab": {
          "base_uri": "https://localhost:8080/",
          "height": 433
        },
        "outputId": "71222fdd-9454-480e-e097-e041586db774"
      },
      "source": [
        "from nltk.stem.porter import *\n",
        "stemmer = PorterStemmer()\n",
        "# apply stemmer for tokenized_tweet\n",
        "tokenized_tweet = tokenized_tweet.apply(lambda x: [stemmer.stem(i) for i in x])\n",
        "df.head(2)"
      ],
      "execution_count": 36,
      "outputs": [
        {
          "output_type": "execute_result",
          "data": {
            "text/plain": [
              "       user_name user_location  \\\n",
              "0         ᏉᎥ☻լꂅϮ    astroworld   \n",
              "1  Tom Basile 🇺🇸  New York, NY   \n",
              "\n",
              "                                                                                                                                            user_description  \\\n",
              "0                                                                            wednesday addams as a disney princess keepin it [̲̅$̲̅(̲̅ιοο̲̅)̲̅$̲̅] 👸🏻💚♊️🧀🌵🌃🌙   \n",
              "1  Husband, Father, Columnist & Commentator. Author of Tough Sell: Fighting the Media War in Iraq. Bush Admin Alum. Newsmax Contributor. Fmr Exec Dir NYSGOP   \n",
              "\n",
              "          user_created  user_followers  user_friends  user_favourites  \\\n",
              "0  2017-05-26 05:46:42             624           950            18775   \n",
              "1  2009-04-16 20:06:23            2253          1677               24   \n",
              "\n",
              "   user_verified                 date  \\\n",
              "0          False  2020-07-25 12:27:21   \n",
              "1           True  2020-07-25 12:27:17   \n",
              "\n",
              "                                                                                                                                           text  \\\n",
              "0  If I smelled the scent of hand sanitizers today on someone in the past, I would think they were so intoxicated that… https://t.co/QZvYbrOgb0   \n",
              "1  Hey @Yankees @YankeesPR and @MLB - wouldn't it have made more sense to have the players pay their respects to the A… https://t.co/1QvW0zgyPu   \n",
              "\n",
              "  hashtags               source  is_retweet  \\\n",
              "0      NaN   Twitter for iPhone       False   \n",
              "1      NaN  Twitter for Android       False   \n",
              "\n",
              "                                                                                                        clean_text  \n",
              "0  smelled the scent hand sanitizers today someone the past would think they were intoxicated that https QZvYbrOgb  \n",
              "1                      Hey and wouldn have made more sense have the players pay their respects the https QvW zgyPu  "
            ],
            "text/html": "<div>\n<style scoped>\n    .dataframe tbody tr th:only-of-type {\n        vertical-align: middle;\n    }\n\n    .dataframe tbody tr th {\n        vertical-align: top;\n    }\n\n    .dataframe thead th {\n        text-align: right;\n    }\n</style>\n<table border=\"1\" class=\"dataframe\">\n  <thead>\n    <tr style=\"text-align: right;\">\n      <th></th>\n      <th>user_name</th>\n      <th>user_location</th>\n      <th>user_description</th>\n      <th>user_created</th>\n      <th>user_followers</th>\n      <th>user_friends</th>\n      <th>user_favourites</th>\n      <th>user_verified</th>\n      <th>date</th>\n      <th>text</th>\n      <th>hashtags</th>\n      <th>source</th>\n      <th>is_retweet</th>\n      <th>clean_text</th>\n    </tr>\n  </thead>\n  <tbody>\n    <tr>\n      <th>0</th>\n      <td>ᏉᎥ☻լꂅϮ</td>\n      <td>astroworld</td>\n      <td>wednesday addams as a disney princess keepin it [̲̅$̲̅(̲̅ιοο̲̅)̲̅$̲̅] 👸🏻💚♊️🧀🌵🌃🌙</td>\n      <td>2017-05-26 05:46:42</td>\n      <td>624</td>\n      <td>950</td>\n      <td>18775</td>\n      <td>False</td>\n      <td>2020-07-25 12:27:21</td>\n      <td>If I smelled the scent of hand sanitizers today on someone in the past, I would think they were so intoxicated that… https://t.co/QZvYbrOgb0</td>\n      <td>NaN</td>\n      <td>Twitter for iPhone</td>\n      <td>False</td>\n      <td>smelled the scent hand sanitizers today someone the past would think they were intoxicated that https QZvYbrOgb</td>\n    </tr>\n    <tr>\n      <th>1</th>\n      <td>Tom Basile 🇺🇸</td>\n      <td>New York, NY</td>\n      <td>Husband, Father, Columnist &amp; Commentator. Author of Tough Sell: Fighting the Media War in Iraq. Bush Admin Alum. Newsmax Contributor. Fmr Exec Dir NYSGOP</td>\n      <td>2009-04-16 20:06:23</td>\n      <td>2253</td>\n      <td>1677</td>\n      <td>24</td>\n      <td>True</td>\n      <td>2020-07-25 12:27:17</td>\n      <td>Hey @Yankees @YankeesPR and @MLB - wouldn't it have made more sense to have the players pay their respects to the A… https://t.co/1QvW0zgyPu</td>\n      <td>NaN</td>\n      <td>Twitter for Android</td>\n      <td>False</td>\n      <td>Hey and wouldn have made more sense have the players pay their respects the https QvW zgyPu</td>\n    </tr>\n  </tbody>\n</table>\n</div>"
          },
          "metadata": {},
          "execution_count": 36
        }
      ]
    },
    {
      "cell_type": "code",
      "metadata": {
        "id": "7wVGTRtLumqx"
      },
      "source": [
        "# join tokens into one sentence\n",
        "for i in range(len(tokenized_tweet)):\n",
        "    tokenized_tweet[i] = ' '.join(tokenized_tweet[i])\n",
        "# change df['clean_text'] to tokenized_tweet"
      ],
      "execution_count": 38,
      "outputs": []
    },
    {
      "cell_type": "code",
      "metadata": {
        "id": "Z-Cp1iCau30c",
        "colab": {
          "base_uri": "https://localhost:8080/",
          "height": 399
        },
        "outputId": "e85d7046-6c8a-4014-f20a-a7e3d3a0299e"
      },
      "source": [
        "df['clean_text']  = tokenized_tweet\n",
        "df.head(2)"
      ],
      "execution_count": 39,
      "outputs": [
        {
          "output_type": "execute_result",
          "data": {
            "text/plain": [
              "       user_name user_location  \\\n",
              "0         ᏉᎥ☻լꂅϮ    astroworld   \n",
              "1  Tom Basile 🇺🇸  New York, NY   \n",
              "\n",
              "                                                                                                                                            user_description  \\\n",
              "0                                                                            wednesday addams as a disney princess keepin it [̲̅$̲̅(̲̅ιοο̲̅)̲̅$̲̅] 👸🏻💚♊️🧀🌵🌃🌙   \n",
              "1  Husband, Father, Columnist & Commentator. Author of Tough Sell: Fighting the Media War in Iraq. Bush Admin Alum. Newsmax Contributor. Fmr Exec Dir NYSGOP   \n",
              "\n",
              "          user_created  user_followers  user_friends  user_favourites  \\\n",
              "0  2017-05-26 05:46:42             624           950            18775   \n",
              "1  2009-04-16 20:06:23            2253          1677               24   \n",
              "\n",
              "   user_verified                 date  \\\n",
              "0          False  2020-07-25 12:27:21   \n",
              "1           True  2020-07-25 12:27:17   \n",
              "\n",
              "                                                                                                                                           text  \\\n",
              "0  If I smelled the scent of hand sanitizers today on someone in the past, I would think they were so intoxicated that… https://t.co/QZvYbrOgb0   \n",
              "1  Hey @Yankees @YankeesPR and @MLB - wouldn't it have made more sense to have the players pay their respects to the A… https://t.co/1QvW0zgyPu   \n",
              "\n",
              "  hashtags               source  is_retweet  \\\n",
              "0      NaN   Twitter for iPhone       False   \n",
              "1      NaN  Twitter for Android       False   \n",
              "\n",
              "                                                                                         clean_text  \n",
              "0  smell the scent hand sanit today someon the past would think they were intox that http qzvybrogb  \n",
              "1           hey and wouldn have made more sens have the player pay their respect the http qvw zgypu  "
            ],
            "text/html": "<div>\n<style scoped>\n    .dataframe tbody tr th:only-of-type {\n        vertical-align: middle;\n    }\n\n    .dataframe tbody tr th {\n        vertical-align: top;\n    }\n\n    .dataframe thead th {\n        text-align: right;\n    }\n</style>\n<table border=\"1\" class=\"dataframe\">\n  <thead>\n    <tr style=\"text-align: right;\">\n      <th></th>\n      <th>user_name</th>\n      <th>user_location</th>\n      <th>user_description</th>\n      <th>user_created</th>\n      <th>user_followers</th>\n      <th>user_friends</th>\n      <th>user_favourites</th>\n      <th>user_verified</th>\n      <th>date</th>\n      <th>text</th>\n      <th>hashtags</th>\n      <th>source</th>\n      <th>is_retweet</th>\n      <th>clean_text</th>\n    </tr>\n  </thead>\n  <tbody>\n    <tr>\n      <th>0</th>\n      <td>ᏉᎥ☻լꂅϮ</td>\n      <td>astroworld</td>\n      <td>wednesday addams as a disney princess keepin it [̲̅$̲̅(̲̅ιοο̲̅)̲̅$̲̅] 👸🏻💚♊️🧀🌵🌃🌙</td>\n      <td>2017-05-26 05:46:42</td>\n      <td>624</td>\n      <td>950</td>\n      <td>18775</td>\n      <td>False</td>\n      <td>2020-07-25 12:27:21</td>\n      <td>If I smelled the scent of hand sanitizers today on someone in the past, I would think they were so intoxicated that… https://t.co/QZvYbrOgb0</td>\n      <td>NaN</td>\n      <td>Twitter for iPhone</td>\n      <td>False</td>\n      <td>smell the scent hand sanit today someon the past would think they were intox that http qzvybrogb</td>\n    </tr>\n    <tr>\n      <th>1</th>\n      <td>Tom Basile 🇺🇸</td>\n      <td>New York, NY</td>\n      <td>Husband, Father, Columnist &amp; Commentator. Author of Tough Sell: Fighting the Media War in Iraq. Bush Admin Alum. Newsmax Contributor. Fmr Exec Dir NYSGOP</td>\n      <td>2009-04-16 20:06:23</td>\n      <td>2253</td>\n      <td>1677</td>\n      <td>24</td>\n      <td>True</td>\n      <td>2020-07-25 12:27:17</td>\n      <td>Hey @Yankees @YankeesPR and @MLB - wouldn't it have made more sense to have the players pay their respects to the A… https://t.co/1QvW0zgyPu</td>\n      <td>NaN</td>\n      <td>Twitter for Android</td>\n      <td>False</td>\n      <td>hey and wouldn have made more sens have the player pay their respect the http qvw zgypu</td>\n    </tr>\n  </tbody>\n</table>\n</div>"
          },
          "metadata": {},
          "execution_count": 39
        }
      ]
    },
    {
      "cell_type": "markdown",
      "metadata": {
        "id": "blYu7MWCvw0c"
      },
      "source": [
        "#**Extracting Features from Cleaned Tweets**\n",
        "###Removing Stopwords"
      ]
    },
    {
      "cell_type": "code",
      "metadata": {
        "id": "qP_DrpObv8YK",
        "colab": {
          "base_uri": "https://localhost:8080/"
        },
        "outputId": "cd05dedb-63ca-482c-e56c-f1e5b58e35ff"
      },
      "source": [
        "nltk.download('stopwords')"
      ],
      "execution_count": 40,
      "outputs": [
        {
          "output_type": "stream",
          "name": "stderr",
          "text": [
            "[nltk_data] Downloading package stopwords to\n[nltk_data]     C:\\Users\\simmu\\AppData\\Roaming\\nltk_data...\n[nltk_data]   Package stopwords is already up-to-date!\n"
          ]
        },
        {
          "output_type": "execute_result",
          "data": {
            "text/plain": [
              "True"
            ]
          },
          "metadata": {},
          "execution_count": 40
        }
      ]
    },
    {
      "cell_type": "code",
      "metadata": {
        "id": "JaIToRhJwceK"
      },
      "source": [
        "from nltk.corpus import stopwords\n",
        "stop = stopwords.words('english')"
      ],
      "execution_count": 41,
      "outputs": []
    },
    {
      "cell_type": "code",
      "metadata": {
        "id": "cnvKzNdMwfGD",
        "colab": {
          "base_uri": "https://localhost:8080/"
        },
        "outputId": "0f099a6a-b849-4130-91bc-78219856b4e5"
      },
      "source": [
        "df['clean_text'].apply(lambda x: [item for item in x if item not in stop])"
      ],
      "execution_count": 42,
      "outputs": [
        {
          "output_type": "execute_result",
          "data": {
            "text/plain": [
              "0                        [e, l, l,  , h, e,  , c, e, n,  , h, n,  , n,  ,  , e, n,  , h, e,  , p,  , w, u, l,  , h, n, k,  , h, e,  , w, e, r, e,  , n, x,  , h,  , h, p,  , q, z, v, b, r, g, b]\n",
              "1            [h, e,  , n,  , w, u, l, n,  , h, v, e,  , e,  , r, e,  , e, n,  , h, v, e,  , h, e,  , p, l, e, r,  , p,  , h, e, r,  , r, e, p, e, c,  , h, e,  , h, p,  , q, v, w,  , z, g, p, u]\n",
              "2                                    [r, u, p,  , n, e, v, e, r,  , n, c,  , c, l,  , #, c, v,  , w,  , h, x,  , l, l,  , c, l,  , h,  , h,  , e, f, f, r,  , h, p,  , j, k, k,  , v, h, w, h, b]\n",
              "3         [h, e,  , n, e,  , g, f,  , #, c, v,  , h,  , g, v, e,  , p, p, r, e, c,  , f, r,  , h, e,  , p, l,  , h, n, g,  , h,  , w, e, r, e,  , l, w,  , r, u, n,  , h, p,  , p, l, f, x, c, w]\n",
              "4                                                                     [j, u, l,  , e,  , b, u, l, l, e, n,  , n, v, e, l,  , #, c, r, n, v, r, u, u, p,  , #, c, v,  , h, p,  , e, e, c, j, h, h]\n",
              "                                                                                                   ...                                                                                           \n",
              "179103                                                             [h, n, k,  , f, r,  , n, n,  , f, r,  , h, e,  , #, w, e, r, k,  , c, h, l, l, e, n, g,  , n, n,  , h, p,  , e, g, q, k, k, u]\n",
              "179104                                                                                                                         [h, e,  , e, r,  , n, n,  , l, l,  , #, c, v,  , h, p,  , z, g, n]\n",
              "179105             [p, w, e, r,  , p, n,  , j, u, n,  , l, u, c, e, n,  , r, b, u,  , h, e,  , g, r, n, p, r,  , w, h,  , e,  , c, v,  , n,  , h, e,  , g, r, n, c,  , h, p,  , w, n, x, b, b, c]\n",
              "179106                                                          [r, e,  , h, n,  , u, e, n,  , e,  , p,  , f, r,  , #, c, v,  , j, r,  , u, n, v, e, r,  , b, c,  , n, e, w,  , h, p,  , n, h, f]\n",
              "179107                                                                                                                      [p,  , w, h, e, n,  , e, e,  , p,  , h, p,  , r, e, g,  , p, w, z, n]\n",
              "Name: clean_text, Length: 179108, dtype: object"
            ]
          },
          "metadata": {},
          "execution_count": 42
        }
      ]
    },
    {
      "cell_type": "markdown",
      "metadata": {
        "id": "4HNN3RXgef98"
      },
      "source": [
        "##Check and calculate sentiment of tweets"
      ]
    },
    {
      "cell_type": "code",
      "metadata": {
        "id": "v3GVLqArgghP"
      },
      "source": [
        "#creates a function that determines subjectivity and polarity from the textblob package\n",
        "def getTextSubjectivity(clean_text):\n",
        "    return TextBlob(clean_text).sentiment.subjectivity\n",
        "def getTextPolarity(clean_text):\n",
        "    return TextBlob(clean_text).sentiment.polarity\n",
        "#applies these functions to the dataframe\n",
        "df['Subjectivity'] = df['clean_text'].apply(getTextSubjectivity)\n",
        "df['Polarity'] = df['clean_text'].apply(getTextPolarity)\n",
        "#builds a function to calculate and categorize each tweet as Negative, Neutral, and Positive\n",
        "def getTextAnalysis(a):\n",
        "    if a < 0:\n",
        "        return \"Negative\"\n",
        "    elif a == 0:\n",
        "        return \"Neutral\"\n",
        "    else:\n",
        "        return \"Positive\"\n",
        "#creates another column called Score and applies the function to the dataframe\n",
        "df['Score'] = df['Polarity'].apply(getTextAnalysis)"
      ],
      "execution_count": 44,
      "outputs": []
    },
    {
      "cell_type": "code",
      "metadata": {
        "id": "GY3GedDZzfrw"
      },
      "source": [
        "new_df=df[['clean_text','Score']]"
      ],
      "execution_count": 46,
      "outputs": []
    },
    {
      "cell_type": "code",
      "metadata": {
        "id": "qdHiy5tTXiCE",
        "colab": {
          "base_uri": "https://localhost:8080/"
        },
        "outputId": "7befd62a-638d-44da-a8bd-df628c2e2dda"
      },
      "source": [
        "new_df.shape"
      ],
      "execution_count": 47,
      "outputs": [
        {
          "output_type": "execute_result",
          "data": {
            "text/plain": [
              "(179108, 2)"
            ]
          },
          "metadata": {},
          "execution_count": 47
        }
      ]
    },
    {
      "cell_type": "code",
      "metadata": {
        "id": "iryAJvngwJiC",
        "colab": {
          "base_uri": "https://localhost:8080/",
          "height": 80
        },
        "outputId": "c48a476d-34a5-4e7d-d3ba-fb45a14627f8"
      },
      "source": [
        "new_df.head(1)"
      ],
      "execution_count": 48,
      "outputs": [
        {
          "output_type": "execute_result",
          "data": {
            "text/plain": [
              "                                                                                         clean_text  \\\n",
              "0  smell the scent hand sanit today someon the past would think they were intox that http qzvybrogb   \n",
              "\n",
              "      Score  \n",
              "0  Negative  "
            ],
            "text/html": "<div>\n<style scoped>\n    .dataframe tbody tr th:only-of-type {\n        vertical-align: middle;\n    }\n\n    .dataframe tbody tr th {\n        vertical-align: top;\n    }\n\n    .dataframe thead th {\n        text-align: right;\n    }\n</style>\n<table border=\"1\" class=\"dataframe\">\n  <thead>\n    <tr style=\"text-align: right;\">\n      <th></th>\n      <th>clean_text</th>\n      <th>Score</th>\n    </tr>\n  </thead>\n  <tbody>\n    <tr>\n      <th>0</th>\n      <td>smell the scent hand sanit today someon the past would think they were intox that http qzvybrogb</td>\n      <td>Negative</td>\n    </tr>\n  </tbody>\n</table>\n</div>"
          },
          "metadata": {},
          "execution_count": 48
        }
      ]
    },
    {
      "cell_type": "code",
      "metadata": {
        "id": "gYu-toGFlqi6"
      },
      "source": [
        "data=new_df.head(20000)"
      ],
      "execution_count": 49,
      "outputs": []
    },
    {
      "cell_type": "markdown",
      "metadata": {
        "id": "pCphK-R9gC0I"
      },
      "source": [
        "## BPNN (Back Propagation Neural Network)"
      ]
    },
    {
      "cell_type": "code",
      "execution_count": 50,
      "metadata": {},
      "outputs": [
        {
          "output_type": "stream",
          "name": "stdout",
          "text": [
            "Model: \"sequential_3\"\n",
            "_________________________________________________________________\n",
            "Layer (type)                 Output Shape              Param #   \n",
            "=================================================================\n",
            "dense_9 (Dense)              (None, 1000)              35306000  \n",
            "_________________________________________________________________\n",
            "dense_10 (Dense)             (None, 1000)              1001000   \n",
            "_________________________________________________________________\n",
            "dense_11 (Dense)             (None, 3)                 3003      \n",
            "=================================================================\n",
            "Total params: 36,310,003\n",
            "Trainable params: 36,310,003\n",
            "Non-trainable params: 0\n",
            "_________________________________________________________________\n",
            "None\n",
            "              precision    recall  f1-score   support\n",
            "\n",
            "    Negative       0.81      0.70      0.75       587\n",
            "     Neutral       0.87      0.93      0.90      2023\n",
            "    Positive       0.88      0.84      0.86      1390\n",
            "\n",
            "    accuracy                           0.86      4000\n",
            "   macro avg       0.85      0.82      0.84      4000\n",
            "weighted avg       0.86      0.86      0.86      4000\n",
            "\n"
          ]
        }
      ],
      "source": [
        "import tensorflow as tf\n",
        "from keras.models import Sequential\n",
        "from keras.layers import Dense\n",
        "import pandas as pd\n",
        "from sklearn.preprocessing import OneHotEncoder, OrdinalEncoder, MinMaxScaler\n",
        "from sklearn.model_selection import train_test_split\n",
        "\n",
        "bpnn_data=new_df.head(20000)\n",
        "data=bpnn_data\n",
        "from sklearn.model_selection import train_test_split\n",
        "\n",
        "train,valid = train_test_split(data,test_size = 0.2,random_state=0,stratify = data.Score.values)\n",
        "from sklearn.feature_extraction.text import CountVectorizer\n",
        "from nltk.corpus import stopwords\n",
        "stop = list(stopwords.words('english'))\n",
        "vectorizer = CountVectorizer(decode_error = 'replace',stop_words = stop)\n",
        "\n",
        "x_train = vectorizer.fit_transform(train.clean_text.values)\n",
        "x_valid = vectorizer.transform(valid.clean_text.values)\n",
        "\n",
        "y_train = train.Score.values\n",
        "y_valid = valid.Score.values\n",
        "\n",
        "\n",
        "model = Sequential()\n",
        "\n",
        "col=x_train.shape[1]\n",
        "\n",
        "model.add(Dense(1000, activation='relu', input_shape =(col,)))\n",
        "model.add(Dense(1000, activation='relu'))\n",
        "model.add(Dense(3, activation='softmax'))\n",
        "\n",
        "model.compile(optimizer='adam', loss='categorical_crossentropy', metrics=['accuracy'])\n",
        "\n",
        "print(model.summary())\n",
        "\n",
        "from sklearn.neural_network import MLPClassifier\n",
        "mlp = MLPClassifier(hidden_layer_sizes=(10,10,10), max_iter=1000)\n",
        "mlp.fit(x_train, y_train)\n",
        "predictions = mlp.predict(x_valid)\n",
        "from sklearn.metrics import classification_report, confusion_matrix\n",
        "print(classification_report(y_valid,predictions))"
      ]
    },
    {
      "cell_type": "markdown",
      "metadata": {
        "id": "g-Ajfzc47YKI"
      },
      "source": [
        "# SVM (Support Vector Machine)"
      ]
    },
    {
      "cell_type": "code",
      "metadata": {
        "id": "dMI2qTe5OZ-G",
        "colab": {
          "base_uri": "https://localhost:8080/"
        },
        "outputId": "681dbc98-8049-4f28-ed3e-04deaf8f4304"
      },
      "source": [
        "from sklearn.model_selection import train_test_split\n",
        "\n",
        "train,valid = train_test_split(data,test_size = 0.3,random_state=0,stratify = data.Score.values) #stratification means that the train_test_split method returns training and test subsets that have the same proportions of class labels as the input dataset.\n",
        "print(\"train shape : \", train.shape)\n",
        "print(\"valid shape : \", valid.shape)"
      ],
      "execution_count": 51,
      "outputs": [
        {
          "output_type": "stream",
          "name": "stdout",
          "text": [
            "train shape :  (14000, 2)\nvalid shape :  (6000, 2)\n"
          ]
        }
      ]
    },
    {
      "cell_type": "code",
      "metadata": {
        "id": "4z6kE73eTHga",
        "colab": {
          "base_uri": "https://localhost:8080/"
        },
        "outputId": "16fe007c-1eb2-43be-bbf6-27eacf4c8270"
      },
      "source": [
        "from sklearn.feature_extraction.text import CountVectorizer\n",
        "from nltk.corpus import stopwords\n",
        "stop = list(stopwords.words('english'))\n",
        "vectorizer = CountVectorizer(decode_error = 'replace',stop_words = stop)\n",
        "\n",
        "X_train = vectorizer.fit_transform(train.clean_text.values)\n",
        "X_valid = vectorizer.transform(valid.clean_text.values)\n",
        "\n",
        "y_train = train.Score.values\n",
        "y_valid = valid.Score.values\n",
        "\n",
        "print(\"X_train.shape : \", X_train.shape)\n",
        "print(\"X_valid.shape : \", X_valid.shape)\n",
        "print(\"y_train.shape : \", y_train.shape)\n",
        "print(\"y_valid.shape : \", y_valid.shape)"
      ],
      "execution_count": 52,
      "outputs": [
        {
          "output_type": "stream",
          "name": "stdout",
          "text": [
            "X_train.shape :  (14000, 31884)\nX_valid.shape :  (6000, 31884)\ny_train.shape :  (14000,)\ny_valid.shape :  (6000,)\n"
          ]
        }
      ]
    },
    {
      "cell_type": "code",
      "metadata": {
        "id": "3mI6Zjzrh8wZ",
        "colab": {
          "base_uri": "https://localhost:8080/"
        },
        "outputId": "458cd609-0331-42b1-84a9-57fcb562ec27"
      },
      "source": [
        "from sklearn.svm import SVC\n",
        "\n",
        "svc = SVC()\n",
        "\n",
        "svc.fit(X_train, y_train)\n",
        "\n",
        "svc_prediction = svc.predict(X_valid)\n",
        "svc_accuracy = accuracy_score(y_valid,svc_prediction)\n",
        "print(\"Training accuracy Score    : \",svc.score(X_train,y_train))\n",
        "print(\"Validation accuracy Score : \",svc_accuracy )\n",
        "print(classification_report(svc_prediction,y_valid))"
      ],
      "execution_count": 53,
      "outputs": [
        {
          "output_type": "stream",
          "name": "stdout",
          "text": [
            "Training accuracy Score    :  0.9542142857142857\nValidation accuracy Score :  0.8351666666666666\n              precision    recall  f1-score   support\n\n    Negative       0.47      0.91      0.62       452\n     Neutral       1.00      0.78      0.87      3887\n    Positive       0.75      0.95      0.84      1661\n\n    accuracy                           0.84      6000\n   macro avg       0.74      0.88      0.78      6000\nweighted avg       0.89      0.84      0.85      6000\n\n"
          ]
        }
      ]
    },
    {
      "cell_type": "markdown",
      "metadata": {
        "id": "pyGtWzOmdOlI"
      },
      "source": [
        "## Logistic Regression"
      ]
    },
    {
      "cell_type": "code",
      "metadata": {
        "colab": {
          "base_uri": "https://localhost:8080/"
        },
        "id": "L3ltCNoFdTD5",
        "outputId": "4b68f856-b092-4345-9326-293c20afe08c"
      },
      "source": [
        "from sklearn.model_selection import train_test_split\n",
        "\n",
        "train,valid = train_test_split(new_df,test_size = 0.3,random_state=0,stratify = new_df.Score.values) #stratification means that the train_test_split method returns training and test subsets that have the same proportions of class labels as the input dataset.\n",
        "print(\"train shape : \", train.shape)\n",
        "print(\"valid shape : \", valid.shape)\n",
        "from sklearn.feature_extraction.text import CountVectorizer\n",
        "from nltk.corpus import stopwords\n",
        "stop = list(stopwords.words('english'))\n",
        "vectorizer = CountVectorizer(decode_error = 'replace',stop_words = stop)\n",
        "\n",
        "X_train = vectorizer.fit_transform(train.clean_text.values)\n",
        "X_valid = vectorizer.transform(valid.clean_text.values)\n",
        "\n",
        "y_train = train.Score.values\n",
        "y_valid = valid.Score.values\n",
        "\n",
        "print(\"X_train.shape : \", X_train.shape)\n",
        "print(\"X_valid.shape : \", X_valid.shape)\n",
        "print(\"y_train.shape : \", y_train.shape)\n",
        "print(\"y_valid.shape : \", y_valid.shape)\n",
        "from sklearn.linear_model import LogisticRegression\n",
        "logreg = LogisticRegression()\n",
        "\n",
        "logreg.fit(X_train, y_train)\n",
        "\n",
        "logreg_prediction = logreg.predict(X_valid)\n",
        "logreg_accuracy = accuracy_score(y_valid,logreg_prediction)\n",
        "print(\"Training accuracy Score    : \",logreg.score(X_train,y_train))\n",
        "print(\"Validation accuracy Score : \",logreg_accuracy )\n",
        "print(classification_report(logreg_prediction,y_valid))"
      ],
      "execution_count": 54,
      "outputs": [
        {
          "output_type": "stream",
          "name": "stdout",
          "text": [
            "train shape :  (125375, 2)\n",
            "valid shape :  (53733, 2)\n",
            "X_train.shape :  (125375, 186305)\n",
            "X_valid.shape :  (53733, 186305)\n",
            "y_train.shape :  (125375,)\n",
            "y_valid.shape :  (53733,)\n",
            "C:\\Users\\simmu\\anaconda3\\lib\\site-packages\\sklearn\\linear_model\\_logistic.py:762: ConvergenceWarning: lbfgs failed to converge (status=1):\n",
            "STOP: TOTAL NO. of ITERATIONS REACHED LIMIT.\n",
            "\n",
            "Increase the number of iterations (max_iter) or scale the data as shown in:\n",
            "    https://scikit-learn.org/stable/modules/preprocessing.html\n",
            "Please also refer to the documentation for alternative solver options:\n",
            "    https://scikit-learn.org/stable/modules/linear_model.html#logistic-regression\n",
            "  n_iter_i = _check_optimize_result(\n",
            "Training accuracy Score    :  0.9606380857427717\n",
            "Validation accuracy Score :  0.9266186514804683\n",
            "              precision    recall  f1-score   support\n",
            "\n",
            "    Negative       0.82      0.91      0.86      6886\n",
            "     Neutral       0.99      0.91      0.95     29688\n",
            "    Positive       0.88      0.96      0.92     17159\n",
            "\n",
            "    accuracy                           0.93     53733\n",
            "   macro avg       0.90      0.93      0.91     53733\n",
            "weighted avg       0.93      0.93      0.93     53733\n",
            "\n"
          ]
        }
      ]
    },
    {
      "cell_type": "markdown",
      "metadata": {
        "id": "YLbgRgBEYbzB"
      },
      "source": [
        "## Random Forest Classifier"
      ]
    },
    {
      "cell_type": "code",
      "metadata": {
        "colab": {
          "base_uri": "https://localhost:8080/"
        },
        "id": "6tgWVkorYfro",
        "outputId": "ec4c4bce-d2e9-490d-cf3d-6be85a3a60c3"
      },
      "source": [
        "from sklearn.model_selection import train_test_split\n",
        "\n",
        "train,valid = train_test_split(data,test_size = 0.3,random_state=0,stratify = data.Score.values) #stratification means that the train_test_split method returns training and test subsets that have the same proportions of class labels as the input dataset.\n",
        "print(\"train shape : \", train.shape)\n",
        "print(\"valid shape : \", valid.shape)\n",
        "from sklearn.feature_extraction.text import CountVectorizer\n",
        "from nltk.corpus import stopwords\n",
        "stop = list(stopwords.words('english'))\n",
        "vectorizer = CountVectorizer(decode_error = 'replace',stop_words = stop)\n",
        "\n",
        "X_train = vectorizer.fit_transform(train.clean_text.values)\n",
        "X_valid = vectorizer.transform(valid.clean_text.values)\n",
        "\n",
        "y_train = train.Score.values\n",
        "y_valid = valid.Score.values\n",
        "\n",
        "print(\"X_train.shape : \", X_train.shape)\n",
        "print(\"X_valid.shape : \", X_valid.shape)\n",
        "print(\"y_train.shape : \", y_train.shape)\n",
        "print(\"y_valid.shape : \", y_valid.shape)\n",
        "from sklearn.ensemble import RandomForestClassifier\n",
        "\n",
        "rf_clf = RandomForestClassifier()\n",
        "\n",
        "rf_clf.fit(X_train,y_train)\n",
        "\n",
        "rf_prediction = rf_clf.predict(X_valid)\n",
        "rf_accuracy = accuracy_score(y_valid,rf_prediction)\n",
        "print(\"Training accuracy Score    : \",rf_clf.score(X_train,y_train))\n",
        "print(\"Validation accuracy Score : \",rf_accuracy )\n",
        "print(classification_report(rf_prediction,y_valid))"
      ],
      "execution_count": 55,
      "outputs": [
        {
          "output_type": "stream",
          "name": "stdout",
          "text": [
            "train shape :  (14000, 2)\n",
            "valid shape :  (6000, 2)\n",
            "X_train.shape :  (14000, 31884)\n",
            "X_valid.shape :  (6000, 31884)\n",
            "y_train.shape :  (14000,)\n",
            "y_valid.shape :  (6000,)\n",
            "Training accuracy Score    :  1.0\n",
            "Validation accuracy Score :  0.9033333333333333\n",
            "              precision    recall  f1-score   support\n",
            "\n",
            "    Negative       0.70      0.93      0.80       665\n",
            "     Neutral       0.99      0.88      0.93      3439\n",
            "    Positive       0.86      0.94      0.90      1896\n",
            "\n",
            "    accuracy                           0.90      6000\n",
            "   macro avg       0.85      0.92      0.88      6000\n",
            "weighted avg       0.92      0.90      0.91      6000\n",
            "\n"
          ]
        }
      ]
    },
    {
      "cell_type": "markdown",
      "metadata": {
        "id": "hiE5ii960UmO"
      },
      "source": [
        "#*Thank you! :)*"
      ]
    }
  ]
}